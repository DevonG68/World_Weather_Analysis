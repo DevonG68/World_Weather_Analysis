{
 "cells": [
  {
   "cell_type": "code",
   "execution_count": 1,
   "id": "e2be5c2f",
   "metadata": {},
   "outputs": [],
   "source": [
    "#Import the random module\n",
    "import random\n"
   ]
  },
  {
   "cell_type": "code",
   "execution_count": 2,
   "id": "a64a408e",
   "metadata": {},
   "outputs": [
    {
     "data": {
      "text/plain": [
       "31"
      ]
     },
     "execution_count": 2,
     "metadata": {},
     "output_type": "execute_result"
    }
   ],
   "source": [
    "#Retrieve random module functions by pressing tab-random integer\n",
    "random.randint(-90, 90)"
   ]
  },
  {
   "cell_type": "code",
   "execution_count": 3,
   "id": "9154248b",
   "metadata": {},
   "outputs": [
    {
     "data": {
      "text/plain": [
       "0.471741828143011"
      ]
     },
     "execution_count": 3,
     "metadata": {},
     "output_type": "execute_result"
    }
   ],
   "source": [
    "#Retrieve info using random() to get single floating-point decimal 0-1.0\n",
    "random.random()"
   ]
  },
  {
   "cell_type": "code",
   "execution_count": 4,
   "id": "6c16d132",
   "metadata": {},
   "outputs": [
    {
     "data": {
      "text/plain": [
       "56.25759757184767"
      ]
     },
     "execution_count": 4,
     "metadata": {},
     "output_type": "execute_result"
    }
   ],
   "source": [
    "#generate floating decimal latitude with whole numbers up to 89\n",
    "random_number = random.randint(-90, 89)+ random.random()\n",
    "random_number"
   ]
  },
  {
   "cell_type": "code",
   "execution_count": 6,
   "id": "3ed05dc5",
   "metadata": {},
   "outputs": [],
   "source": [
    "#write algorithm generate latitudes between -90 and 89\n",
    "x=1\n",
    "latitudes = []\n",
    "while x < 11:\n",
    "        random_lat = random.randint(-90, 89) + random.random()\n",
    "        latitudes.append(random_lat)\n",
    "        x += 1"
   ]
  },
  {
   "cell_type": "code",
   "execution_count": 7,
   "id": "173daa55",
   "metadata": {},
   "outputs": [
    {
     "data": {
      "text/plain": [
       "-70"
      ]
     },
     "execution_count": 7,
     "metadata": {},
     "output_type": "execute_result"
    }
   ],
   "source": [
    "#add 2 numbers, a lower and upper limit, separated by comma\n",
    "random.randrange(-90, 90, step=1)"
   ]
  },
  {
   "cell_type": "code",
   "execution_count": 8,
   "id": "eecf522d",
   "metadata": {},
   "outputs": [
    {
     "data": {
      "text/plain": [
       "6"
      ]
     },
     "execution_count": 8,
     "metadata": {},
     "output_type": "execute_result"
    }
   ],
   "source": [
    "#add 2 numbers, a lower and upper limt in sequence of 3\n",
    "random.randrange(-90, 90, step=3)"
   ]
  },
  {
   "cell_type": "code",
   "execution_count": 9,
   "id": "1e5f9ef4",
   "metadata": {},
   "outputs": [
    {
     "data": {
      "text/plain": [
       "2.7320979491939283"
      ]
     },
     "execution_count": 9,
     "metadata": {},
     "output_type": "execute_result"
    }
   ],
   "source": [
    "#generate a floating point decimal number between 2 given numbers\n",
    "random.uniform(-90, 90)"
   ]
  },
  {
   "cell_type": "code",
   "execution_count": 10,
   "id": "2618e235",
   "metadata": {},
   "outputs": [],
   "source": [
    "#import NumPy module\n",
    "import numpy as np"
   ]
  },
  {
   "cell_type": "code",
   "execution_count": 11,
   "id": "e71bf3e4",
   "metadata": {},
   "outputs": [
    {
     "data": {
      "text/plain": [
       "-74.324880123685"
      ]
     },
     "execution_count": 11,
     "metadata": {},
     "output_type": "execute_result"
    }
   ],
   "source": [
    "np.random.uniform(-90, 90)"
   ]
  },
  {
   "cell_type": "code",
   "execution_count": 12,
   "id": "7a93b970",
   "metadata": {},
   "outputs": [
    {
     "data": {
      "text/plain": [
       "array([-42.42230895,  75.94250926,  22.5060432 , -63.77455827,\n",
       "       -33.52660494, -66.61496289, -62.50707874,   9.17534955,\n",
       "       -84.79483578, -76.92423239,  31.10507208,  40.26829488,\n",
       "        36.83163712,  75.61768014, -35.54004213,  85.84934098,\n",
       "        77.32340016, -15.55696586, -47.49049663,  62.4055843 ,\n",
       "        60.05027815,   9.77041127,  14.59450981, -22.71693825,\n",
       "        75.1753793 , -74.74863292,  70.70682323, -70.89318191,\n",
       "       -49.73831978, -51.54731498,  82.35032521, -12.70776446,\n",
       "       -57.74066027, -23.16788175,  60.01788025, -73.3956626 ,\n",
       "        85.90639383,  54.49292267,  40.05915329, -70.00998392,\n",
       "         4.14435474, -22.24251206,  17.4368486 , -79.73968611,\n",
       "        80.83438416, -29.80825311, -41.35716579, -69.76847961,\n",
       "       -66.33637489, -81.36789368])"
      ]
     },
     "execution_count": 12,
     "metadata": {},
     "output_type": "execute_result"
    }
   ],
   "source": [
    "#generate more than one floating point decimal number, add size parameter for array of 50 numbers\n",
    "np.random.uniform(-90, 90, size=50)"
   ]
  },
  {
   "cell_type": "code",
   "execution_count": 13,
   "id": "68c8eb2f",
   "metadata": {},
   "outputs": [],
   "source": [
    "#import timeit to test how long piece of code or function takes to run\n",
    "import timeit"
   ]
  },
  {
   "cell_type": "code",
   "execution_count": 14,
   "id": "3bb87b53",
   "metadata": {},
   "outputs": [
    {
     "name": "stdout",
     "output_type": "stream",
     "text": [
      "12.6 µs ± 725 ns per loop (mean ± std. dev. of 7 runs, 100000 loops each)\n"
     ]
    }
   ],
   "source": [
    "%timeit np.random.uniform(-90, 90, size=1500)"
   ]
  },
  {
   "cell_type": "code",
   "execution_count": 16,
   "id": "91a9a031",
   "metadata": {},
   "outputs": [
    {
     "data": {
      "text/plain": [
       "array([ 16.74783256,  26.10768758,  49.70430602, ..., -66.06225332,\n",
       "       -13.65217328, -65.93444467])"
      ]
     },
     "execution_count": 16,
     "metadata": {},
     "output_type": "execute_result"
    }
   ],
   "source": [
    "np.random.uniform(-90, 90, size=1500)"
   ]
  },
  {
   "cell_type": "code",
   "execution_count": null,
   "id": "bd3dce83",
   "metadata": {},
   "outputs": [],
   "source": []
  },
  {
   "cell_type": "code",
   "execution_count": null,
   "id": "155cb661",
   "metadata": {},
   "outputs": [],
   "source": []
  }
 ],
 "metadata": {
  "kernelspec": {
   "display_name": "Python 3",
   "language": "python",
   "name": "python3"
  },
  "language_info": {
   "codemirror_mode": {
    "name": "ipython",
    "version": 3
   },
   "file_extension": ".py",
   "mimetype": "text/x-python",
   "name": "python",
   "nbconvert_exporter": "python",
   "pygments_lexer": "ipython3",
   "version": "3.8.8"
  }
 },
 "nbformat": 4,
 "nbformat_minor": 5
}
